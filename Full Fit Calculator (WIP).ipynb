{
 "cells": [
  {
   "cell_type": "code",
   "execution_count": 1,
   "id": "47971614",
   "metadata": {},
   "outputs": [
    {
     "name": "stdout",
     "output_type": "stream",
     "text": [
      "What is your height in inches? 64\n",
      "What is your weight in pounds? 145\n",
      "Body Mass Index (BMI) is an estimate of body fat and a good gauge of your risk for diseases that can occur with more body fat. \n",
      "Your BMI is 24, which is classified as Healthy.\n"
     ]
    }
   ],
   "source": [
    "# Develop a program that lets user determine their current BMI. \n",
    "# The user will then enter in their desired weight to calculate how many calories based on the miffin st jeor calculations\n",
    "# The app will then help determine macronutrients breakdown\n",
    "\n",
    "# https://www.calculator.net/bmi-calculator.html\n",
    "# https://calculator.net/calorie-calculator.html#reference\n",
    "\n",
    "\n",
    "height = float(input(\"What is your height in inches? \"))\n",
    "weight = float(input(\"What is your weight in pounds? \"))\n",
    "\n",
    "BMI = ((weight) / (height ** 2)*703)\n",
    "#print(float(BMI))\n",
    "\n",
    "BMIranges = ('Underweight','Healthy','Overweight','Obese')\n",
    "\n",
    "if BMI < 18.6: \n",
    "    BMIresult = 0\n",
    "    BMIresult = BMIranges[0]\n",
    "elif 18.5 < BMI and BMI < 24.9:\n",
    "    BMIresult = BMIranges[1]\n",
    "elif 25.0 < BMI and BMI < 30.0:\n",
    "    BMIresult = BMIranges[2]\n",
    "elif BMI > 30.1:\n",
    "    BMIresult = BMIranges[3]\n",
    "else:\n",
    "    print(\"Unable to calculate. Try again\")\n",
    "\n",
    "print(\"Body Mass Index (BMI) is an estimate of body fat and a good gauge of your risk for diseases that can occur with more body fat. \")\n",
    "print(\"Your BMI is \" + str(int(BMI)) + \", which is classified as \"+ BMIresult +\".\")\n",
    "\n"
   ]
  },
  {
   "cell_type": "code",
   "execution_count": 2,
   "id": "ede01cfb",
   "metadata": {},
   "outputs": [
    {
     "name": "stdout",
     "output_type": "stream",
     "text": [
      "How old are you? 31\n",
      "What is your biological gender? F\n",
      "Your Basal Metabolic Rate (BMR) is the number of calories you burn as your body performs basic (basal) life-sustaining function. \n",
      "Your BMR is 1443.\n"
     ]
    }
   ],
   "source": [
    "#Male BMR formula = 66 + (6.23 × weight in pounds) + (12.7 × height in inches) − (6.8 × age in years)\n",
    "#Female BMR formula = 655 + (4.3 x weight in pounds) + (4.7 x height in inches) – (4.7 x age in years)\n",
    "\n",
    "age = float(input(\"How old are you? \"))\n",
    "\n",
    "gender = input(\"What is your biological gender? \")\n",
    "if gender == \"M\":\n",
    "    BMR = 0\n",
    "    BMR = (66.0+(6.23*weight)+(12.7*height)-(6.8*age))\n",
    "elif gender == \"F\":\n",
    "    BMR = (665+(4.3*weight)+(4.7*height)-(4.7*age))\n",
    "else:\n",
    "    print(\"Unable to calculate. Try again\")\n",
    "    \n",
    "print(\"Your Basal Metabolic Rate (BMR) is the number of calories you burn as your body performs basic (basal) life-sustaining function. \")\n",
    "print(\"Your BMR is \"+str(int(BMR)) +\".\")"
   ]
  },
  {
   "cell_type": "code",
   "execution_count": 3,
   "id": "2b9a8bf0",
   "metadata": {},
   "outputs": [
    {
     "name": "stdout",
     "output_type": "stream",
     "text": [
      "How would you rate your lifestyle?\n",
      "1 - for sedentary lifestyle (little to no exercise and work a desk job)\n",
      "2 - for lightly active lifestyle (light exercise 1-3 days per week)\n",
      "3 - for moderately active lifestyle (moderate exercise 3-5 days per week)\n",
      "4 - for very active lifestyle (heavy exercise 6-7 days per week)\n",
      "5 - for extremely active lifestyle (strenuous training 2 times a day)\n",
      "4\n",
      "Total daily energy expenditure (TDEE) is the total energy that a person uses in a day.\n",
      "2526.2999999999997\n"
     ]
    }
   ],
   "source": [
    "#https://www.medicinenet.com/how_to_calculate_calorie_deficit_for_weight_loss/article.htm\n",
    "\n",
    "\n",
    "TDEEinputs = int(input(\"How would you rate your lifestyle?\" + '\\n'\n",
    "                      \"1 - for sedentary lifestyle (little to no exercise and work a desk job)\"+ '\\n'\n",
    "                     \"2 - for lightly active lifestyle (light exercise 1-3 days per week)\"+ '\\n'\n",
    "                     \"3 - for moderately active lifestyle (moderate exercise 3-5 days per week)\"+ '\\n'\n",
    "                     \"4 - for very active lifestyle (heavy exercise 6-7 days per week)\"+ '\\n'\n",
    "                     \"5 - for extremely active lifestyle (strenuous training 2 times a day)\"+ '\\n'))\n",
    "\n",
    "TDEEselection = {'Sedentary':1.2,'Light Active':1.375,'Moderate Active':1.55,'Very Active':1.75,'Extreme Active':1.9}\n",
    "\n",
    "print(\"Total daily energy expenditure (TDEE) is the total energy that a person uses in a day.\")\n",
    "\n",
    "TDEE = 0\n",
    "if TDEEinputs == 1:\n",
    "    TDEE = TDEEselection['Sedentary'] * BMR\n",
    "    print(TDEE)\n",
    "elif TDEEinputs == 2:\n",
    "    TDEE = TDEEselection['Light Active'] * BMR\n",
    "    print(TDEE)\n",
    "elif TDEEinputs == 3:\n",
    "    TDEE = TDEEselection['Moderate Active'] * BMR\n",
    "    print(TDEE)\n",
    "elif TDEEinputs == 4:\n",
    "    TDEE = TDEEselection['Very Active'] * BMR\n",
    "    print(TDEE)\n",
    "elif TDEEinputs == 5:\n",
    "    TDEE = TDEEselection['Extreme Active'] * BMR\n",
    "    print(\"Your TDEE is \"+str(int(TDEE)) +\".\")\n",
    "else:\n",
    "    print(\"Unable to calculate. Try again\")"
   ]
  },
  {
   "cell_type": "code",
   "execution_count": null,
   "id": "4867b644",
   "metadata": {},
   "outputs": [],
   "source": [
    "#Calculate calorie deficit based on desired weight per week\n",
    "\n",
    "calorieDeficit = int(input(\"How much weight per week?\" + '\\n'\n",
    "                      \"1 - for Mild Weight Loss of 0.5 lb\"+ '\\n'\n",
    "                     \"2 - for Weight Loss of 1 lb\"+ '\\n'\n",
    "                     \"3 - for Extreme Weight Loss of 2 lb\"+ '\\n'\n",
    "                     \"4 - for Mild Weight Gain of 0.5 lb\"+ '\\n'\n",
    "                     \"5 - for Weight Gain of 1 lb\"+ '\\n'                        \n",
    "                     \"6 - for Extreme Weight Gain of 2 lb\"+ '\\n'))\n",
    "\n",
    "calorieDeficit = {'1':500,'2':1000,'3':1500,}\n",
    "\n"
   ]
  }
 ],
 "metadata": {
  "kernelspec": {
   "display_name": "Python 3",
   "language": "python",
   "name": "python3"
  },
  "language_info": {
   "codemirror_mode": {
    "name": "ipython",
    "version": 3
   },
   "file_extension": ".py",
   "mimetype": "text/x-python",
   "name": "python",
   "nbconvert_exporter": "python",
   "pygments_lexer": "ipython3",
   "version": "3.8.8"
  }
 },
 "nbformat": 4,
 "nbformat_minor": 5
}
